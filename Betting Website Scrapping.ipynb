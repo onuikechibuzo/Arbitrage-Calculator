{
  "nbformat": 4,
  "nbformat_minor": 0,
  "metadata": {
    "colab": {
      "provenance": [],
      "authorship_tag": "ABX9TyN9e8Qdj9IMTdBWN9JI9z/n",
      "include_colab_link": true
    },
    "kernelspec": {
      "name": "python3",
      "display_name": "Python 3"
    },
    "language_info": {
      "name": "python"
    }
  },
  "cells": [
    {
      "cell_type": "markdown",
      "metadata": {
        "id": "view-in-github",
        "colab_type": "text"
      },
      "source": [
        "<a href=\"https://colab.research.google.com/github/onuikechibuzo/Arbitrage-Calculator/blob/main/Betting%20Website%20Scrapping.ipynb\" target=\"_parent\"><img src=\"https://colab.research.google.com/assets/colab-badge.svg\" alt=\"Open In Colab\"/></a>"
      ]
    },
    {
      "cell_type": "code",
      "execution_count": 1,
      "metadata": {
        "colab": {
          "base_uri": "https://localhost:8080/",
          "height": 314
        },
        "id": "ZfvrSHKWNTVk",
        "outputId": "55a552ad-a13f-4ddf-b4b3-42fde94b9f76"
      },
      "outputs": [
        {
          "output_type": "error",
          "ename": "ModuleNotFoundError",
          "evalue": "No module named 'requests_html'",
          "traceback": [
            "\u001b[0;31m---------------------------------------------------------------------------\u001b[0m",
            "\u001b[0;31mModuleNotFoundError\u001b[0m                       Traceback (most recent call last)",
            "\u001b[0;32m<ipython-input-1-adbdefc5cc26>\u001b[0m in \u001b[0;36m<cell line: 1>\u001b[0;34m()\u001b[0m\n\u001b[0;32m----> 1\u001b[0;31m \u001b[0;32mfrom\u001b[0m \u001b[0mrequests_html\u001b[0m \u001b[0;32mimport\u001b[0m \u001b[0mHTML\u001b[0m\u001b[0;34m,\u001b[0m \u001b[0mHTMLSession\u001b[0m\u001b[0;34m\u001b[0m\u001b[0;34m\u001b[0m\u001b[0m\n\u001b[0m",
            "\u001b[0;31mModuleNotFoundError\u001b[0m: No module named 'requests_html'",
            "",
            "\u001b[0;31m---------------------------------------------------------------------------\u001b[0;32m\nNOTE: If your import is failing due to a missing package, you can\nmanually install dependencies using either !pip or !apt.\n\nTo view examples of installing some common dependencies, click the\n\"Open Examples\" button below.\n\u001b[0;31m---------------------------------------------------------------------------\u001b[0m\n"
          ],
          "errorDetails": {
            "actions": [
              {
                "action": "open_url",
                "actionText": "Open Examples",
                "url": "/notebooks/snippets/importing_libraries.ipynb"
              }
            ]
          }
        }
      ],
      "source": [
        "from requests_html import HTML, HTMLSession"
      ]
    },
    {
      "cell_type": "code",
      "source": [
        "pip install requests-html"
      ],
      "metadata": {
        "colab": {
          "base_uri": "https://localhost:8080/"
        },
        "id": "kUCoEDxwNjxZ",
        "outputId": "23b454db-c5d5-456d-e914-3f8f0c2a6651"
      },
      "execution_count": 2,
      "outputs": [
        {
          "output_type": "stream",
          "name": "stdout",
          "text": [
            "Collecting requests-html\n",
            "  Downloading requests_html-0.10.0-py3-none-any.whl.metadata (15 kB)\n",
            "Requirement already satisfied: requests in /usr/local/lib/python3.10/dist-packages (from requests-html) (2.32.3)\n",
            "Collecting pyquery (from requests-html)\n",
            "  Downloading pyquery-2.0.1-py3-none-any.whl.metadata (9.0 kB)\n",
            "Collecting fake-useragent (from requests-html)\n",
            "  Downloading fake_useragent-2.0.3-py3-none-any.whl.metadata (17 kB)\n",
            "Collecting parse (from requests-html)\n",
            "  Downloading parse-1.20.2-py2.py3-none-any.whl.metadata (22 kB)\n",
            "Collecting bs4 (from requests-html)\n",
            "  Downloading bs4-0.0.2-py2.py3-none-any.whl.metadata (411 bytes)\n",
            "Collecting w3lib (from requests-html)\n",
            "  Downloading w3lib-2.2.1-py3-none-any.whl.metadata (2.1 kB)\n",
            "Collecting pyppeteer>=0.0.14 (from requests-html)\n",
            "  Downloading pyppeteer-2.0.0-py3-none-any.whl.metadata (7.1 kB)\n",
            "Collecting appdirs<2.0.0,>=1.4.3 (from pyppeteer>=0.0.14->requests-html)\n",
            "  Downloading appdirs-1.4.4-py2.py3-none-any.whl.metadata (9.0 kB)\n",
            "Requirement already satisfied: certifi>=2023 in /usr/local/lib/python3.10/dist-packages (from pyppeteer>=0.0.14->requests-html) (2024.12.14)\n",
            "Requirement already satisfied: importlib-metadata>=1.4 in /usr/local/lib/python3.10/dist-packages (from pyppeteer>=0.0.14->requests-html) (8.5.0)\n",
            "Collecting pyee<12.0.0,>=11.0.0 (from pyppeteer>=0.0.14->requests-html)\n",
            "  Downloading pyee-11.1.1-py3-none-any.whl.metadata (2.8 kB)\n",
            "Requirement already satisfied: tqdm<5.0.0,>=4.42.1 in /usr/local/lib/python3.10/dist-packages (from pyppeteer>=0.0.14->requests-html) (4.67.1)\n",
            "Collecting urllib3<2.0.0,>=1.25.8 (from pyppeteer>=0.0.14->requests-html)\n",
            "  Downloading urllib3-1.26.20-py2.py3-none-any.whl.metadata (50 kB)\n",
            "\u001b[2K     \u001b[90m━━━━━━━━━━━━━━━━━━━━━━━━━━━━━━━━━━━━━━━━\u001b[0m \u001b[32m50.1/50.1 kB\u001b[0m \u001b[31m3.6 MB/s\u001b[0m eta \u001b[36m0:00:00\u001b[0m\n",
            "\u001b[?25hCollecting websockets<11.0,>=10.0 (from pyppeteer>=0.0.14->requests-html)\n",
            "  Downloading websockets-10.4-cp310-cp310-manylinux_2_5_x86_64.manylinux1_x86_64.manylinux_2_17_x86_64.manylinux2014_x86_64.whl.metadata (6.4 kB)\n",
            "Requirement already satisfied: beautifulsoup4 in /usr/local/lib/python3.10/dist-packages (from bs4->requests-html) (4.12.3)\n",
            "Requirement already satisfied: lxml>=2.1 in /usr/local/lib/python3.10/dist-packages (from pyquery->requests-html) (5.3.0)\n",
            "Collecting cssselect>=1.2.0 (from pyquery->requests-html)\n",
            "  Downloading cssselect-1.2.0-py2.py3-none-any.whl.metadata (2.2 kB)\n",
            "Requirement already satisfied: charset-normalizer<4,>=2 in /usr/local/lib/python3.10/dist-packages (from requests->requests-html) (3.4.0)\n",
            "Requirement already satisfied: idna<4,>=2.5 in /usr/local/lib/python3.10/dist-packages (from requests->requests-html) (3.10)\n",
            "Requirement already satisfied: zipp>=3.20 in /usr/local/lib/python3.10/dist-packages (from importlib-metadata>=1.4->pyppeteer>=0.0.14->requests-html) (3.21.0)\n",
            "Requirement already satisfied: typing-extensions in /usr/local/lib/python3.10/dist-packages (from pyee<12.0.0,>=11.0.0->pyppeteer>=0.0.14->requests-html) (4.12.2)\n",
            "Requirement already satisfied: soupsieve>1.2 in /usr/local/lib/python3.10/dist-packages (from beautifulsoup4->bs4->requests-html) (2.6)\n",
            "Downloading requests_html-0.10.0-py3-none-any.whl (13 kB)\n",
            "Downloading pyppeteer-2.0.0-py3-none-any.whl (82 kB)\n",
            "\u001b[2K   \u001b[90m━━━━━━━━━━━━━━━━━━━━━━━━━━━━━━━━━━━━━━━━\u001b[0m \u001b[32m82.9/82.9 kB\u001b[0m \u001b[31m6.3 MB/s\u001b[0m eta \u001b[36m0:00:00\u001b[0m\n",
            "\u001b[?25hDownloading bs4-0.0.2-py2.py3-none-any.whl (1.2 kB)\n",
            "Downloading fake_useragent-2.0.3-py3-none-any.whl (201 kB)\n",
            "\u001b[2K   \u001b[90m━━━━━━━━━━━━━━━━━━━━━━━━━━━━━━━━━━━━━━━━\u001b[0m \u001b[32m201.1/201.1 kB\u001b[0m \u001b[31m14.9 MB/s\u001b[0m eta \u001b[36m0:00:00\u001b[0m\n",
            "\u001b[?25hDownloading parse-1.20.2-py2.py3-none-any.whl (20 kB)\n",
            "Downloading pyquery-2.0.1-py3-none-any.whl (22 kB)\n",
            "Downloading w3lib-2.2.1-py3-none-any.whl (21 kB)\n",
            "Downloading appdirs-1.4.4-py2.py3-none-any.whl (9.6 kB)\n",
            "Downloading cssselect-1.2.0-py2.py3-none-any.whl (18 kB)\n",
            "Downloading pyee-11.1.1-py3-none-any.whl (15 kB)\n",
            "Downloading urllib3-1.26.20-py2.py3-none-any.whl (144 kB)\n",
            "\u001b[2K   \u001b[90m━━━━━━━━━━━━━━━━━━━━━━━━━━━━━━━━━━━━━━━━\u001b[0m \u001b[32m144.2/144.2 kB\u001b[0m \u001b[31m10.3 MB/s\u001b[0m eta \u001b[36m0:00:00\u001b[0m\n",
            "\u001b[?25hDownloading websockets-10.4-cp310-cp310-manylinux_2_5_x86_64.manylinux1_x86_64.manylinux_2_17_x86_64.manylinux2014_x86_64.whl (106 kB)\n",
            "\u001b[2K   \u001b[90m━━━━━━━━━━━━━━━━━━━━━━━━━━━━━━━━━━━━━━━━\u001b[0m \u001b[32m106.8/106.8 kB\u001b[0m \u001b[31m8.1 MB/s\u001b[0m eta \u001b[36m0:00:00\u001b[0m\n",
            "\u001b[?25hInstalling collected packages: parse, appdirs, websockets, w3lib, urllib3, pyee, fake-useragent, cssselect, pyquery, pyppeteer, bs4, requests-html\n",
            "  Attempting uninstall: websockets\n",
            "    Found existing installation: websockets 14.1\n",
            "    Uninstalling websockets-14.1:\n",
            "      Successfully uninstalled websockets-14.1\n",
            "  Attempting uninstall: urllib3\n",
            "    Found existing installation: urllib3 2.2.3\n",
            "    Uninstalling urllib3-2.2.3:\n",
            "      Successfully uninstalled urllib3-2.2.3\n",
            "\u001b[31mERROR: pip's dependency resolver does not currently take into account all the packages that are installed. This behaviour is the source of the following dependency conflicts.\n",
            "google-genai 0.2.2 requires websockets<15.0dev,>=13.0, but you have websockets 10.4 which is incompatible.\u001b[0m\u001b[31m\n",
            "\u001b[0mSuccessfully installed appdirs-1.4.4 bs4-0.0.2 cssselect-1.2.0 fake-useragent-2.0.3 parse-1.20.2 pyee-11.1.1 pyppeteer-2.0.0 pyquery-2.0.1 requests-html-0.10.0 urllib3-1.26.20 w3lib-2.2.1 websockets-10.4\n"
          ]
        }
      ]
    },
    {
      "cell_type": "code",
      "source": [
        "pip install lxml_html_clean"
      ],
      "metadata": {
        "colab": {
          "base_uri": "https://localhost:8080/"
        },
        "id": "rBNJfFkDNtGd",
        "outputId": "c2a1af5e-6080-47d9-dd38-a51fd3567fbe"
      },
      "execution_count": 3,
      "outputs": [
        {
          "output_type": "stream",
          "name": "stdout",
          "text": [
            "Collecting lxml_html_clean\n",
            "  Downloading lxml_html_clean-0.4.1-py3-none-any.whl.metadata (2.4 kB)\n",
            "Requirement already satisfied: lxml in /usr/local/lib/python3.10/dist-packages (from lxml_html_clean) (5.3.0)\n",
            "Downloading lxml_html_clean-0.4.1-py3-none-any.whl (14 kB)\n",
            "Installing collected packages: lxml_html_clean\n",
            "Successfully installed lxml_html_clean-0.4.1\n"
          ]
        }
      ]
    },
    {
      "cell_type": "code",
      "source": [
        "from requests_html import HTML, HTMLSession\n",
        "\n",
        "session = HTMLSession()\n",
        "r = session.get('https://sports.bet9ja.com/')\n",
        "\n",
        "print(r.html)\n",
        "print(r.text)\n",
        "print(r.content)"
      ],
      "metadata": {
        "colab": {
          "base_uri": "https://localhost:8080/"
        },
        "id": "fo4OtXcYNzJQ",
        "outputId": "9d73b54b-dee5-48d1-da62-bba4a3322bd1"
      },
      "execution_count": 4,
      "outputs": [
        {
          "output_type": "stream",
          "name": "stdout",
          "text": [
            "<HTML url='https://sports.bet9ja.com/'>\n",
            "<!DOCTYPE html>\r\n",
            "<html>\r\n",
            "<head>\r\n",
            "    <meta charset=\"utf-8\">\r\n",
            "    <meta name=\"viewport\" content=\"width=device-width, initial-scale=1, maximum-scale=1, user-scalable=no\">\r\n",
            "\r\n",
            "    <title>Bet9ja Nigeria Sport Betting, Premier League Odds, Casino, Bet</title>\r\n",
            "    <meta name=\"description\" content=\"Nigeria number one betting website. Visit Bet9ja for high odds on soccer and the best live betting service. Deposit fast and play on Racing, Casino and Virtuals.\" />\r\n",
            "    <meta property=\"og:locale\" content=\"en_EN\" />\r\n",
            "    <meta property=\"og:type\" content=\"website\" />\r\n",
            "    <meta property=\"og:title\" content=\"Bet9ja Nigeria Sport Betting, Premier League Odds, Casino, Bet\" />\r\n",
            "    <meta property=\"og:description\" content=\"Nigeria number one betting website. Visit Bet9ja for high odds on soccer and the best live betting service. Deposit fast and play on Racing, Casino and Virtuals.\" />\r\n",
            "    <meta property=\"og:url\" content=\"https://bet9ja.com/\" />\r\n",
            "    <meta property=\"og:site_name\" content=\"Bet9ja\" />\r\n",
            "    <meta property=\"og:image\" content=\"https://cnt.bet9ja.com/cdn/wall-e/components/header/img/bet9ja/mobile/ogImageBetBoom.jpg\" />\r\n",
            "    <meta name=\"twitter:card\" content=\"summary\" />\r\n",
            "    <meta name=\"twitter:description\" content=\"Nigeria number one betting website. Visit Bet9ja for high odds on soccer and the best live betting service. Deposit fast and play on Racing, Casino and Virtuals.\" />\r\n",
            "    <meta name=\"twitter:title\" content=\"Bet9ja Nigeria Sport Betting, Premier League Odds, Casino, Bet\" />\r\n",
            "\r\n",
            "            <link rel=\"preconnect\" href=\"https://cnt.bet9ja.com\" crossorigin>\r\n",
            "\r\n",
            "        <link rel=\"preload\" as=\"style\"\r\n",
            "              href=\"https://cnt.bet9ja.com/cdn/bet9ja/sportsbook/css/desktop/print_1.268.3.min.css?v_cache_version=1.268.3.181\">\r\n",
            "        <link rel=\"preload\" as=\"style\"\r\n",
            "              href=\"https://cnt.bet9ja.com/cdn/bet9ja/sportsbook/css/desktop/printStyle_1.268.3.min.css?v_cache_version=1.268.3.181\">\r\n",
            "        <link rel=\"preload\" as=\"style\"\r\n",
            "              href=\"https://cnt.bet9ja.com/cdn/bet9ja/sportsbook/css/desktop/sportsbook_1.268.3.min.css?v_cache_version=1.268.3.181\">\r\n",
            "                    <link rel=\"preload\" as=\"script\"\r\n",
            "                  href=\"https://cnt.bet9ja.com/cdn/bet9ja/sportsbook/js/desktop/bundle_polyfill_1.268.3.min.js?v_cache_version=1.268.3.181\">\r\n",
            "            \r\n",
            "    <link rel=\"shortcut icon\" href=\"https://cnt.bet9ja.com/cdn/bet9ja/sportsbook/img/desktop/favicon.ico\">\r\n",
            "            <link href=\"https://cnt.bet9ja.com/cdn/bet9ja/sportsbook/css/desktop/print_1.268.3.min.css?v_cache_version=1.268.3.181\"\r\n",
            "              rel=\"stylesheet\"/>\r\n",
            "        <link href=\"https://cnt.bet9ja.com/cdn/bet9ja/sportsbook/css/desktop/printStyle_1.268.3.min.css?v_cache_version=1.268.3.181\"\r\n",
            "              rel=\"stylesheet\"/>\r\n",
            "    \r\n",
            "            <link href=\"https://cnt.bet9ja.com/cdn/bet9ja/sportsbook/css/desktop/sportsbook_1.268.3.min.css?v_cache_version=1.268.3.181\"\r\n",
            "              rel=\"stylesheet\">\r\n",
            "    \r\n",
            "    <script type=\"text/javascript\">\r\n",
            "        var server = {};\r\n",
            "    </script>\r\n",
            "\r\n",
            "</head>\r\n",
            "<body>\r\n",
            "<div class=\"project\" id=\"project\"></div>\r\n",
            "    <script type=\"text/javascript\"\r\n",
            "            src=\"https://cnt.bet9ja.com/cdn/bet9ja/sportsbook/js/desktop/bundle_polyfill_1.268.3.min.js?v_cache_version=1.268.3.181\"></script>\r\n",
            "</body>\r\n",
            "</html>\n",
            "b'<!DOCTYPE html>\\r\\n<html>\\r\\n<head>\\r\\n    <meta charset=\"utf-8\">\\r\\n    <meta name=\"viewport\" content=\"width=device-width, initial-scale=1, maximum-scale=1, user-scalable=no\">\\r\\n\\r\\n    <title>Bet9ja Nigeria Sport Betting, Premier League Odds, Casino, Bet</title>\\r\\n    <meta name=\"description\" content=\"Nigeria number one betting website. Visit Bet9ja for high odds on soccer and the best live betting service. Deposit fast and play on Racing, Casino and Virtuals.\" />\\r\\n    <meta property=\"og:locale\" content=\"en_EN\" />\\r\\n    <meta property=\"og:type\" content=\"website\" />\\r\\n    <meta property=\"og:title\" content=\"Bet9ja Nigeria Sport Betting, Premier League Odds, Casino, Bet\" />\\r\\n    <meta property=\"og:description\" content=\"Nigeria number one betting website. Visit Bet9ja for high odds on soccer and the best live betting service. Deposit fast and play on Racing, Casino and Virtuals.\" />\\r\\n    <meta property=\"og:url\" content=\"https://bet9ja.com/\" />\\r\\n    <meta property=\"og:site_name\" content=\"Bet9ja\" />\\r\\n    <meta property=\"og:image\" content=\"https://cnt.bet9ja.com/cdn/wall-e/components/header/img/bet9ja/mobile/ogImageBetBoom.jpg\" />\\r\\n    <meta name=\"twitter:card\" content=\"summary\" />\\r\\n    <meta name=\"twitter:description\" content=\"Nigeria number one betting website. Visit Bet9ja for high odds on soccer and the best live betting service. Deposit fast and play on Racing, Casino and Virtuals.\" />\\r\\n    <meta name=\"twitter:title\" content=\"Bet9ja Nigeria Sport Betting, Premier League Odds, Casino, Bet\" />\\r\\n\\r\\n            <link rel=\"preconnect\" href=\"https://cnt.bet9ja.com\" crossorigin>\\r\\n\\r\\n        <link rel=\"preload\" as=\"style\"\\r\\n              href=\"https://cnt.bet9ja.com/cdn/bet9ja/sportsbook/css/desktop/print_1.268.3.min.css?v_cache_version=1.268.3.181\">\\r\\n        <link rel=\"preload\" as=\"style\"\\r\\n              href=\"https://cnt.bet9ja.com/cdn/bet9ja/sportsbook/css/desktop/printStyle_1.268.3.min.css?v_cache_version=1.268.3.181\">\\r\\n        <link rel=\"preload\" as=\"style\"\\r\\n              href=\"https://cnt.bet9ja.com/cdn/bet9ja/sportsbook/css/desktop/sportsbook_1.268.3.min.css?v_cache_version=1.268.3.181\">\\r\\n                    <link rel=\"preload\" as=\"script\"\\r\\n                  href=\"https://cnt.bet9ja.com/cdn/bet9ja/sportsbook/js/desktop/bundle_polyfill_1.268.3.min.js?v_cache_version=1.268.3.181\">\\r\\n            \\r\\n    <link rel=\"shortcut icon\" href=\"https://cnt.bet9ja.com/cdn/bet9ja/sportsbook/img/desktop/favicon.ico\">\\r\\n            <link href=\"https://cnt.bet9ja.com/cdn/bet9ja/sportsbook/css/desktop/print_1.268.3.min.css?v_cache_version=1.268.3.181\"\\r\\n              rel=\"stylesheet\"/>\\r\\n        <link href=\"https://cnt.bet9ja.com/cdn/bet9ja/sportsbook/css/desktop/printStyle_1.268.3.min.css?v_cache_version=1.268.3.181\"\\r\\n              rel=\"stylesheet\"/>\\r\\n    \\r\\n            <link href=\"https://cnt.bet9ja.com/cdn/bet9ja/sportsbook/css/desktop/sportsbook_1.268.3.min.css?v_cache_version=1.268.3.181\"\\r\\n              rel=\"stylesheet\">\\r\\n    \\r\\n    <script type=\"text/javascript\">\\r\\n        var server = {};\\r\\n    </script>\\r\\n\\r\\n</head>\\r\\n<body>\\r\\n<div class=\"project\" id=\"project\"></div>\\r\\n    <script type=\"text/javascript\"\\r\\n            src=\"https://cnt.bet9ja.com/cdn/bet9ja/sportsbook/js/desktop/bundle_polyfill_1.268.3.min.js?v_cache_version=1.268.3.181\"></script>\\r\\n</body>\\r\\n</html>'\n"
          ]
        }
      ]
    }
  ]
}